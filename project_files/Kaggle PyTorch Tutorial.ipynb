{
 "cells": [
  {
   "cell_type": "markdown",
   "metadata": {},
   "source": [
    "### Kaggle PyTorch Tutorial"
   ]
  },
  {
   "cell_type": "code",
   "execution_count": 1,
   "metadata": {},
   "outputs": [],
   "source": [
    "import torch\n",
    "import numpy as np"
   ]
  },
  {
   "cell_type": "markdown",
   "metadata": {},
   "source": [
    "### Tensor\n",
    "\n",
    "Tensors are matrix like data structures which are essential components in deep learning libraries and efficient computation. GPUs are especially effective at calculating operations between tensors and this has spurred the surge in deep learning capability in recent times."
   ]
  },
  {
   "cell_type": "code",
   "execution_count": 2,
   "metadata": {},
   "outputs": [
    {
     "name": "stdout",
     "output_type": "stream",
     "text": [
      "tensor([[0.0000e+00, 2.0000e+00, 0.0000e+00],\n",
      "        [2.0000e+00, 8.4037e-10, 7.5553e+28],\n",
      "        [8.8649e-04, 7.7764e+31, 2.7947e+20],\n",
      "        [5.1190e+13, 2.6915e+20, 5.0942e-14],\n",
      "        [1.6109e-19, 1.1578e+27, 7.2902e+22]])\n"
     ]
    }
   ],
   "source": [
    "#Constructing a 5x3 Matrix Uninitialized\n",
    "x = torch.empty(5,3)\n",
    "print(x)"
   ]
  },
  {
   "cell_type": "code",
   "execution_count": 3,
   "metadata": {},
   "outputs": [
    {
     "data": {
      "text/plain": [
       "array([[0.00000000e+00, 2.00000000e+00, 0.00000000e+00],\n",
       "       [2.00000000e+00, 8.40373326e-10, 7.55533019e+28],\n",
       "       [8.86491616e-04, 7.77639599e+31, 2.79472828e+20],\n",
       "       [5.11899871e+13, 2.69145827e+20, 5.09422216e-14],\n",
       "       [1.61085566e-19, 1.15783705e+27, 7.29015776e+22]], dtype=float32)"
      ]
     },
     "execution_count": 3,
     "metadata": {},
     "output_type": "execute_result"
    }
   ],
   "source": [
    "#Convert to numpy\n",
    "x.numpy()"
   ]
  },
  {
   "cell_type": "code",
   "execution_count": 4,
   "metadata": {},
   "outputs": [
    {
     "data": {
      "text/plain": [
       "torch.Size([5, 3])"
      ]
     },
     "execution_count": 4,
     "metadata": {},
     "output_type": "execute_result"
    }
   ],
   "source": [
    "#Size of tensor\n",
    "x.size()"
   ]
  },
  {
   "cell_type": "code",
   "execution_count": 5,
   "metadata": {},
   "outputs": [
    {
     "name": "stdout",
     "output_type": "stream",
     "text": [
      "tensor([[3, 4],\n",
      "        [4, 3]])\n"
     ]
    }
   ],
   "source": [
    "#From Numpy to tensor\n",
    "a = np.array([[3,4],[4,3]])\n",
    "b = torch.from_numpy(a)\n",
    "print(b)"
   ]
  },
  {
   "cell_type": "markdown",
   "metadata": {},
   "source": [
    "#### Tensor Operations"
   ]
  },
  {
   "cell_type": "code",
   "execution_count": 6,
   "metadata": {},
   "outputs": [
    {
     "name": "stdout",
     "output_type": "stream",
     "text": [
      "tensor([[0.7751, 0.0554, 0.1828],\n",
      "        [0.2882, 0.3740, 0.2789],\n",
      "        [0.5662, 0.9860, 0.1723],\n",
      "        [0.8222, 0.2833, 0.4095],\n",
      "        [0.5183, 0.0963, 0.8674]])\n"
     ]
    }
   ],
   "source": [
    "#Random Similar to Numpy\n",
    "x = torch.rand(5,3)\n",
    "print(x)"
   ]
  },
  {
   "cell_type": "code",
   "execution_count": 7,
   "metadata": {},
   "outputs": [
    {
     "name": "stdout",
     "output_type": "stream",
     "text": [
      "tensor([[0, 0, 0],\n",
      "        [0, 0, 0],\n",
      "        [0, 0, 0],\n",
      "        [0, 0, 0],\n",
      "        [0, 0, 0]])\n"
     ]
    }
   ],
   "source": [
    "#Construct a matrix filled zeros and of dtype long\n",
    "x = torch.zeros(5,3, dtype=torch.long)\n",
    "print(x)"
   ]
  },
  {
   "cell_type": "code",
   "execution_count": 8,
   "metadata": {},
   "outputs": [
    {
     "name": "stdout",
     "output_type": "stream",
     "text": [
      "tensor([[1, 1, 1],\n",
      "        [1, 1, 1],\n",
      "        [1, 1, 1]])\n"
     ]
    }
   ],
   "source": [
    "x = torch.ones(3,3,dtype=torch.long)\n",
    "print(x)"
   ]
  },
  {
   "cell_type": "code",
   "execution_count": 9,
   "metadata": {},
   "outputs": [
    {
     "name": "stdout",
     "output_type": "stream",
     "text": [
      "tensor([2.5000, 7.0000])\n"
     ]
    }
   ],
   "source": [
    "#Construct a Tensor Directly from data\n",
    "x = torch.tensor([2.5, 7])\n",
    "print(x)"
   ]
  },
  {
   "cell_type": "code",
   "execution_count": 10,
   "metadata": {},
   "outputs": [
    {
     "name": "stdout",
     "output_type": "stream",
     "text": [
      "tensor([[1., 1., 1.],\n",
      "        [1., 1., 1.],\n",
      "        [1., 1., 1.],\n",
      "        [1., 1., 1.],\n",
      "        [1., 1., 1.]], dtype=torch.float64)\n",
      "torch.Size([5, 3])\n"
     ]
    }
   ],
   "source": [
    "#Create Tensor based on existing tensor\n",
    "x = x.new_ones(5,3, dtype = torch.double)\n",
    "print(x)\n",
    "print(x.size())"
   ]
  },
  {
   "cell_type": "code",
   "execution_count": 11,
   "metadata": {},
   "outputs": [
    {
     "name": "stdout",
     "output_type": "stream",
     "text": [
      "tensor([[ 0.1543,  1.8748, -0.5941],\n",
      "        [-0.6886,  0.3577, -0.9396],\n",
      "        [-0.3782, -1.5011, -0.5467],\n",
      "        [ 1.6370, -0.9726,  0.7931],\n",
      "        [-1.2449,  0.5047, -2.5078]])\n",
      "torch.Size([5, 3])\n"
     ]
    }
   ],
   "source": [
    "x = torch.randn_like(x, dtype=torch.float)\n",
    "print(x)\n",
    "print(x.size())"
   ]
  },
  {
   "cell_type": "markdown",
   "metadata": {},
   "source": [
    "### Basic Tensor Operations"
   ]
  },
  {
   "cell_type": "code",
   "execution_count": 12,
   "metadata": {},
   "outputs": [
    {
     "name": "stdout",
     "output_type": "stream",
     "text": [
      "tensor([[0.5850, 1.0052, 1.6812],\n",
      "        [1.6261, 0.4926, 0.5655],\n",
      "        [1.6967, 0.2539, 1.0863],\n",
      "        [1.0678, 1.0594, 1.1202],\n",
      "        [0.2898, 1.1865, 1.1090]])\n",
      "tensor([[0.5850, 1.0052, 1.6812],\n",
      "        [1.6261, 0.4926, 0.5655],\n",
      "        [1.6967, 0.2539, 1.0863],\n",
      "        [1.0678, 1.0594, 1.1202],\n",
      "        [0.2898, 1.1865, 1.1090]])\n"
     ]
    }
   ],
   "source": [
    "x = torch.rand(5,3)\n",
    "y = torch.rand(5,3)\n",
    "\n",
    "print(x+y) # old method\n",
    "print(torch.add(x, y)) # new method"
   ]
  },
  {
   "cell_type": "code",
   "execution_count": 13,
   "metadata": {},
   "outputs": [
    {
     "name": "stdout",
     "output_type": "stream",
     "text": [
      "tensor([[-0.2704, -0.3204,  0.5116],\n",
      "        [-0.3066, -0.0073, -0.0426],\n",
      "        [ 0.1317,  0.2188, -0.2124],\n",
      "        [-0.1301,  0.2635,  0.7938],\n",
      "        [-0.0628,  0.3015,  0.2644]])\n",
      "tensor([[-0.2704, -0.3204,  0.5116],\n",
      "        [-0.3066, -0.0073, -0.0426],\n",
      "        [ 0.1317,  0.2188, -0.2124],\n",
      "        [-0.1301,  0.2635,  0.7938],\n",
      "        [-0.0628,  0.3015,  0.2644]])\n"
     ]
    }
   ],
   "source": [
    "x = torch.rand(5,3)\n",
    "y = torch.rand(5,3)\n",
    "print(x-y) #old method\n",
    "print(torch.sub(x,y)) #new method"
   ]
  },
  {
   "cell_type": "code",
   "execution_count": 14,
   "metadata": {},
   "outputs": [
    {
     "name": "stdout",
     "output_type": "stream",
     "text": [
      "tensor([[0.0350, 4.5726, 5.1997],\n",
      "        [0.7121, 0.2048, 0.0336],\n",
      "        [0.7217, 1.1211, 0.4167],\n",
      "        [3.3045, 0.9530, 3.4150],\n",
      "        [0.0151, 0.6094, 0.5289]])\n",
      "tensor([[0.0350, 4.5726, 5.1997],\n",
      "        [0.7121, 0.2048, 0.0336],\n",
      "        [0.7217, 1.1211, 0.4167],\n",
      "        [3.3045, 0.9530, 3.4150],\n",
      "        [0.0151, 0.6094, 0.5289]])\n"
     ]
    }
   ],
   "source": [
    "x = torch.rand(5,3)\n",
    "y = torch.rand(5,3)\n",
    "print(x/y) #old method\n",
    "print(torch.div(x,y)) #new method"
   ]
  },
  {
   "cell_type": "code",
   "execution_count": 15,
   "metadata": {},
   "outputs": [
    {
     "name": "stdout",
     "output_type": "stream",
     "text": [
      "tensor([[0.2006, 0.2701, 0.4111],\n",
      "        [0.1883, 0.1811, 0.7472],\n",
      "        [0.3148, 0.2101, 0.1206],\n",
      "        [0.0137, 0.0074, 0.0167],\n",
      "        [0.1956, 0.0914, 0.0073]])\n",
      "tensor([[0.2006, 0.2701, 0.4111],\n",
      "        [0.1883, 0.1811, 0.7472],\n",
      "        [0.3148, 0.2101, 0.1206],\n",
      "        [0.0137, 0.0074, 0.0167],\n",
      "        [0.1956, 0.0914, 0.0073]])\n"
     ]
    }
   ],
   "source": [
    "x = torch.rand(5,3)\n",
    "y = torch.rand(5,3)\n",
    "print(x*y) #old method\n",
    "print(torch.mul(x, y)) #new method"
   ]
  },
  {
   "cell_type": "code",
   "execution_count": 16,
   "metadata": {},
   "outputs": [
    {
     "name": "stdout",
     "output_type": "stream",
     "text": [
      "tensor([[1.1778, 1.0689, 1.2837],\n",
      "        [0.8929, 0.9068, 1.7451],\n",
      "        [1.1385, 1.1047, 0.9282],\n",
      "        [0.5596, 0.5791, 0.9224],\n",
      "        [1.0352, 0.8908, 0.1892]])\n"
     ]
    }
   ],
   "source": [
    "#Adds x to y\n",
    "#New Value is now inside y\n",
    "y.add_(x)\n",
    "print(y)"
   ]
  },
  {
   "cell_type": "code",
   "execution_count": 17,
   "metadata": {},
   "outputs": [
    {
     "name": "stdout",
     "output_type": "stream",
     "text": [
      "tensor([0.4097, 0.6097, 0.8605, 0.5661, 0.7724])\n"
     ]
    }
   ],
   "source": [
    "#Standard Numpy like indexing\n",
    "print(x[:, 1])"
   ]
  },
  {
   "cell_type": "code",
   "execution_count": 18,
   "metadata": {},
   "outputs": [
    {
     "name": "stdout",
     "output_type": "stream",
     "text": [
      "torch.Size([4, 4]) torch.Size([16]) torch.Size([2, 8])\n"
     ]
    }
   ],
   "source": [
    "#Resizing\n",
    "x = torch.randn(4,4)\n",
    "y = x.view(16)\n",
    "z = x.view(-1, 8) # The Size -1 is inferred from other dimensions\n",
    "print(x.size(), y.size(), z.size())"
   ]
  },
  {
   "cell_type": "markdown",
   "metadata": {},
   "source": [
    "### Variable\n",
    "\n",
    "The difference between pytorch and numpy is that is provides automatic derivation, which can automatically give you the gradient of the parameters you want. This operation is provided by another basic element, Variable\n",
    "\n",
    "A variable wraps a Tensor. It supports nearly all the APIs defined by a Tensor. Variable also provides a backward method to perform backpropagation. For example, to backpropagate a loss function to train model parameter x, we use a variable loss to store the value computed by a loss function. Then, we call loss.backward which computes the gradient ∂loss∂x for all the trainable parameters. Pytorch will store the gradient results back in the corresponding variable x\n",
    "\n",
    "Variable in torch is to build a computational graph, but this graph is dynamic compared with a static graph in tensorflow or theano. So torch does not have placeholder, torch can just pass variable to the computational graph"
   ]
  },
  {
   "cell_type": "code",
   "execution_count": 19,
   "metadata": {},
   "outputs": [],
   "source": [
    "import torch\n",
    "from torch.autograd import Variable"
   ]
  },
  {
   "cell_type": "code",
   "execution_count": 20,
   "metadata": {},
   "outputs": [
    {
     "name": "stdout",
     "output_type": "stream",
     "text": [
      "tensor([[1., 2.],\n",
      "        [3., 4.]])\n",
      "tensor([[1., 2.],\n",
      "        [3., 4.]], requires_grad=True)\n"
     ]
    }
   ],
   "source": [
    "#Build a tensor\n",
    "#Build a variable, usually for compute gradients\n",
    "\n",
    "tensor = torch.FloatTensor([[1,2], [3,4]])\n",
    "variable = Variable(tensor, requires_grad=True)\n",
    "\n",
    "print(tensor)\n",
    "print(variable)"
   ]
  },
  {
   "cell_type": "markdown",
   "metadata": {},
   "source": [
    "Till now the tensor and variable seem the same. However, the variable is a part of the graph, its a part of the auto-gradient"
   ]
  },
  {
   "cell_type": "code",
   "execution_count": 21,
   "metadata": {},
   "outputs": [
    {
     "name": "stdout",
     "output_type": "stream",
     "text": [
      "tensor(7.5000)\n",
      "tensor(7.5000, grad_fn=<MeanBackward1>)\n"
     ]
    }
   ],
   "source": [
    "t_out = torch.mean(tensor*tensor)\n",
    "v_out = torch.mean(variable*variable)\n",
    "\n",
    "print(t_out)\n",
    "print(v_out)"
   ]
  },
  {
   "cell_type": "markdown",
   "metadata": {},
   "source": [
    "* Backpropagation from v_out\n",
    "* v_out = 1/4 * sum(variable * variable)\n",
    "* the gradients with respect to the variable d(v_out)/d(variable) = 1/4 * 2 * variable = variable/2"
   ]
  },
  {
   "cell_type": "code",
   "execution_count": 22,
   "metadata": {},
   "outputs": [
    {
     "name": "stdout",
     "output_type": "stream",
     "text": [
      "tensor([[0.5000, 1.0000],\n",
      "        [1.5000, 2.0000]])\n"
     ]
    }
   ],
   "source": [
    "v_out.backward()\n",
    "print(variable.grad)"
   ]
  },
  {
   "cell_type": "markdown",
   "metadata": {},
   "source": [
    "This is data in variable format"
   ]
  },
  {
   "cell_type": "code",
   "execution_count": 23,
   "metadata": {},
   "outputs": [
    {
     "name": "stdout",
     "output_type": "stream",
     "text": [
      "tensor([[1., 2.],\n",
      "        [3., 4.]], requires_grad=True)\n"
     ]
    }
   ],
   "source": [
    "#Tensor in Variable Format\n",
    "print(variable)"
   ]
  },
  {
   "cell_type": "code",
   "execution_count": 24,
   "metadata": {},
   "outputs": [
    {
     "name": "stdout",
     "output_type": "stream",
     "text": [
      "tensor([[1., 2.],\n",
      "        [3., 4.]])\n"
     ]
    }
   ],
   "source": [
    "#Tensor in Data Format\n",
    "print(variable.data)"
   ]
  },
  {
   "cell_type": "code",
   "execution_count": 25,
   "metadata": {},
   "outputs": [
    {
     "name": "stdout",
     "output_type": "stream",
     "text": [
      "[[1. 2.]\n",
      " [3. 4.]]\n"
     ]
    }
   ],
   "source": [
    "#Tensor in Numpy Format\n",
    "print(variable.data.numpy())"
   ]
  },
  {
   "cell_type": "code",
   "execution_count": null,
   "metadata": {},
   "outputs": [],
   "source": []
  },
  {
   "cell_type": "code",
   "execution_count": null,
   "metadata": {},
   "outputs": [],
   "source": []
  }
 ],
 "metadata": {
  "kernelspec": {
   "display_name": "Python 3",
   "language": "python",
   "name": "python3"
  },
  "language_info": {
   "codemirror_mode": {
    "name": "ipython",
    "version": 3
   },
   "file_extension": ".py",
   "mimetype": "text/x-python",
   "name": "python",
   "nbconvert_exporter": "python",
   "pygments_lexer": "ipython3",
   "version": "3.7.0"
  }
 },
 "nbformat": 4,
 "nbformat_minor": 2
}
